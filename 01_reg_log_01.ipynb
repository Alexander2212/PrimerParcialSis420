{
  "cells": [
    {
      "cell_type": "markdown",
      "metadata": {
        "id": "view-in-github",
        "colab_type": "text"
      },
      "source": [
        "<a href=\"https://colab.research.google.com/github/Alexander2212/PrimerParcialSis420/blob/main/01_reg_log_01.ipynb\" target=\"_parent\"><img src=\"https://colab.research.google.com/assets/colab-badge.svg\" alt=\"Open In Colab\"/></a>"
      ]
    },
    {
      "cell_type": "markdown",
      "metadata": {
        "id": "9L0KhPHmJVNa"
      },
      "source": [
        "# Primer Parcial SIS420\n",
        "\n",
        "Nombre: Alexander NahuelBarañado Mendez\n"
      ]
    },
    {
      "cell_type": "markdown",
      "source": [
        "Voy a conectar mi google driva para tener acceso aldataset"
      ],
      "metadata": {
        "id": "3WPgIW3vN_pI"
      }
    },
    {
      "cell_type": "code",
      "source": [
        "from google.colab import drive\n",
        "drive.mount('/content/drive')"
      ],
      "metadata": {
        "colab": {
          "base_uri": "https://localhost:8080/"
        },
        "id": "z5PQZyiqJhUu",
        "outputId": "37499592-2f8c-4272-c0a3-a4b01a1edae8"
      },
      "execution_count": 79,
      "outputs": [
        {
          "output_type": "stream",
          "name": "stdout",
          "text": [
            "Drive already mounted at /content/drive; to attempt to forcibly remount, call drive.mount(\"/content/drive\", force_remount=True).\n"
          ]
        }
      ]
    },
    {
      "cell_type": "markdown",
      "source": [
        "Importare las librerias que voy a necesitar"
      ],
      "metadata": {
        "id": "nFPwjnqfOHYm"
      }
    },
    {
      "cell_type": "code",
      "execution_count": 80,
      "metadata": {
        "id": "Eg6cIE74JVNd"
      },
      "outputs": [],
      "source": [
        "# se utiliza para el manejo de rutas y directorios.\n",
        "import os\n",
        "\n",
        "# Calculo cientifico y vectorial para python\n",
        "import numpy as np\n",
        "import pandas as pd\n",
        "import string\n",
        "# Librerias para graficar\n",
        "from matplotlib import pyplot\n",
        "\n",
        "# Modulo de optimización de scipy\n",
        "from scipy import optimize\n",
        "\n",
        "# le dice a matplotlib que incruste gráficos en el cuaderno\n",
        "%matplotlib inline"
      ]
    },
    {
      "cell_type": "markdown",
      "source": [
        "#1\n"
      ],
      "metadata": {
        "id": "wjvSp0W-_fkE"
      }
    },
    {
      "cell_type": "markdown",
      "source": [
        "cargo los datos que tiene el archivo y los guardo en data para su uso"
      ],
      "metadata": {
        "id": "pIdQ3xMBOPmD"
      }
    },
    {
      "cell_type": "code",
      "execution_count": 81,
      "metadata": {
        "colab": {
          "base_uri": "https://localhost:8080/"
        },
        "id": "WVzUelTXJVNe",
        "outputId": "6edaf898-54ac-43bf-88d7-14a601f5561f"
      },
      "outputs": [
        {
          "output_type": "stream",
          "name": "stdout",
          "text": [
            "              Date Location  MinTemp  MaxTemp  Rainfall  Evaporation  \\\n",
            "0       2008-12-01   Albury     13.4     22.9       0.6          NaN   \n",
            "1       2008-12-02   Albury      7.4     25.1       0.0          NaN   \n",
            "2       2008-12-03   Albury     12.9     25.7       0.0          NaN   \n",
            "3       2008-12-04   Albury      9.2     28.0       0.0          NaN   \n",
            "4       2008-12-05   Albury     17.5     32.3       1.0          NaN   \n",
            "...            ...      ...      ...      ...       ...          ...   \n",
            "145455  2017-06-21    Uluru      2.8     23.4       0.0          NaN   \n",
            "145456  2017-06-22    Uluru      3.6     25.3       0.0          NaN   \n",
            "145457  2017-06-23    Uluru      5.4     26.9       0.0          NaN   \n",
            "145458  2017-06-24    Uluru      7.8     27.0       0.0          NaN   \n",
            "145459  2017-06-25    Uluru     14.9      NaN       0.0          NaN   \n",
            "\n",
            "        Sunshine WindGustDir  WindGustSpeed WindDir9am  ... WindSpeed3pm  \\\n",
            "0            NaN           W           44.0          W  ...         24.0   \n",
            "1            NaN         WNW           44.0        NNW  ...         22.0   \n",
            "2            NaN         WSW           46.0          W  ...         26.0   \n",
            "3            NaN          NE           24.0         SE  ...          9.0   \n",
            "4            NaN           W           41.0        ENE  ...         20.0   \n",
            "...          ...         ...            ...        ...  ...          ...   \n",
            "145455       NaN           E           31.0         SE  ...         11.0   \n",
            "145456       NaN         NNW           22.0         SE  ...          9.0   \n",
            "145457       NaN           N           37.0         SE  ...          9.0   \n",
            "145458       NaN          SE           28.0        SSE  ...          7.0   \n",
            "145459       NaN         NaN            NaN        ESE  ...         17.0   \n",
            "\n",
            "        Humidity9am  Humidity3pm  Pressure9am  Pressure3pm  Cloud9am  \\\n",
            "0              71.0         22.0       1007.7       1007.1       8.0   \n",
            "1              44.0         25.0       1010.6       1007.8       NaN   \n",
            "2              38.0         30.0       1007.6       1008.7       NaN   \n",
            "3              45.0         16.0       1017.6       1012.8       NaN   \n",
            "4              82.0         33.0       1010.8       1006.0       7.0   \n",
            "...             ...          ...          ...          ...       ...   \n",
            "145455         51.0         24.0       1024.6       1020.3       NaN   \n",
            "145456         56.0         21.0       1023.5       1019.1       NaN   \n",
            "145457         53.0         24.0       1021.0       1016.8       NaN   \n",
            "145458         51.0         24.0       1019.4       1016.5       3.0   \n",
            "145459         62.0         36.0       1020.2       1017.9       8.0   \n",
            "\n",
            "        Cloud3pm  Temp9am  Temp3pm  RainToday  \n",
            "0            NaN     16.9     21.8         No  \n",
            "1            NaN     17.2     24.3         No  \n",
            "2            2.0     21.0     23.2         No  \n",
            "3            NaN     18.1     26.5         No  \n",
            "4            8.0     17.8     29.7         No  \n",
            "...          ...      ...      ...        ...  \n",
            "145455       NaN     10.1     22.4         No  \n",
            "145456       NaN     10.9     24.5         No  \n",
            "145457       NaN     12.5     26.1         No  \n",
            "145458       2.0     15.1     26.0         No  \n",
            "145459       8.0     15.0     20.9         No  \n",
            "\n",
            "[145460 rows x 22 columns]\n",
            "0         13.4\n",
            "1          7.4\n",
            "2         12.9\n",
            "3          9.2\n",
            "4         17.5\n",
            "          ... \n",
            "145455     2.8\n",
            "145456     3.6\n",
            "145457     5.4\n",
            "145458     7.8\n",
            "145459    14.9\n",
            "Name: MinTemp, Length: 145460, dtype: float64\n",
            "145460\n"
          ]
        }
      ],
      "source": [
        "# Cargar datos\n",
        "data = pd.read_csv('/content/drive/MyDrive/IA/Parciales/weatherAUS.csv')\n",
        "\n",
        "# Guardar los datos en una variable auxiliar para no alterarlos\n",
        "data_aux = data.copy()\n",
        "# Variables de Entrada del dataset\n",
        "X = data.iloc[:, :22]\n",
        "\n",
        "\n",
        "# Variables de Salida del dataset\n",
        "y = data['MinTemp']\n",
        "\n",
        "# Muestra el tamaño de \"y\"\n",
        "m = y.size\n",
        "print(X)\n",
        "print(y)\n",
        "print(m)"
      ]
    },
    {
      "cell_type": "markdown",
      "source": [
        "creo las columnas duracion, categoria. hubo nieve, huboafectados y los lleno con datos random entre las opciones que le proporciono"
      ],
      "metadata": {
        "id": "eozJP1wcOhQg"
      }
    },
    {
      "cell_type": "code",
      "source": [
        "#crear las columnas\n",
        "column1 = np.random.randint(0, 251, len(X)) # Valores entre 0 y 250 con 2 decimales\n",
        "options = ['sí', 'no']\n",
        "column2 = np.random.choice(options, len(X))  # Palabras aleatorias: sí o no\n",
        "# Lista de opciones: 'F' o 'M'\n",
        "letters = ['P', 'M', 'G' ]\n",
        "column3 = np.random.choice(letters, len(X))  # Letras aleatorias: F o M\n",
        "boolean_options = [True, False]\n",
        "column4 = np.random.choice(boolean_options, len(X))  # Valores booleanos\n",
        "\n",
        "\n",
        "\n",
        "# Agregar las columnas aleatorias al final de X\n",
        "X['Duracion en minutos'] = column1\n",
        "X['Categoria'] = column3\n",
        "X['hubo nieve'] = column2\n",
        "X['hubo afectados'] = column4\n",
        "print(X)"
      ],
      "metadata": {
        "colab": {
          "base_uri": "https://localhost:8080/"
        },
        "id": "hMhEZf4SOeUD",
        "outputId": "6e5ef203-753c-4ae3-95ba-26244fe4e92d"
      },
      "execution_count": 82,
      "outputs": [
        {
          "output_type": "stream",
          "name": "stdout",
          "text": [
            "              Date Location  MinTemp  MaxTemp  Rainfall  Evaporation  \\\n",
            "0       2008-12-01   Albury     13.4     22.9       0.6          NaN   \n",
            "1       2008-12-02   Albury      7.4     25.1       0.0          NaN   \n",
            "2       2008-12-03   Albury     12.9     25.7       0.0          NaN   \n",
            "3       2008-12-04   Albury      9.2     28.0       0.0          NaN   \n",
            "4       2008-12-05   Albury     17.5     32.3       1.0          NaN   \n",
            "...            ...      ...      ...      ...       ...          ...   \n",
            "145455  2017-06-21    Uluru      2.8     23.4       0.0          NaN   \n",
            "145456  2017-06-22    Uluru      3.6     25.3       0.0          NaN   \n",
            "145457  2017-06-23    Uluru      5.4     26.9       0.0          NaN   \n",
            "145458  2017-06-24    Uluru      7.8     27.0       0.0          NaN   \n",
            "145459  2017-06-25    Uluru     14.9      NaN       0.0          NaN   \n",
            "\n",
            "        Sunshine WindGustDir  WindGustSpeed WindDir9am  ... Pressure3pm  \\\n",
            "0            NaN           W           44.0          W  ...      1007.1   \n",
            "1            NaN         WNW           44.0        NNW  ...      1007.8   \n",
            "2            NaN         WSW           46.0          W  ...      1008.7   \n",
            "3            NaN          NE           24.0         SE  ...      1012.8   \n",
            "4            NaN           W           41.0        ENE  ...      1006.0   \n",
            "...          ...         ...            ...        ...  ...         ...   \n",
            "145455       NaN           E           31.0         SE  ...      1020.3   \n",
            "145456       NaN         NNW           22.0         SE  ...      1019.1   \n",
            "145457       NaN           N           37.0         SE  ...      1016.8   \n",
            "145458       NaN          SE           28.0        SSE  ...      1016.5   \n",
            "145459       NaN         NaN            NaN        ESE  ...      1017.9   \n",
            "\n",
            "        Cloud9am  Cloud3pm  Temp9am  Temp3pm  RainToday  Duracion en minutos  \\\n",
            "0            8.0       NaN     16.9     21.8         No                  175   \n",
            "1            NaN       NaN     17.2     24.3         No                   28   \n",
            "2            NaN       2.0     21.0     23.2         No                    7   \n",
            "3            NaN       NaN     18.1     26.5         No                  189   \n",
            "4            7.0       8.0     17.8     29.7         No                  134   \n",
            "...          ...       ...      ...      ...        ...                  ...   \n",
            "145455       NaN       NaN     10.1     22.4         No                  245   \n",
            "145456       NaN       NaN     10.9     24.5         No                   55   \n",
            "145457       NaN       NaN     12.5     26.1         No                   25   \n",
            "145458       3.0       2.0     15.1     26.0         No                   59   \n",
            "145459       8.0       8.0     15.0     20.9         No                  195   \n",
            "\n",
            "        Categoria  hubo nieve  hubo afectados  \n",
            "0               P          sí            True  \n",
            "1               P          no           False  \n",
            "2               P          no            True  \n",
            "3               M          no            True  \n",
            "4               G          no            True  \n",
            "...           ...         ...             ...  \n",
            "145455          P          no            True  \n",
            "145456          M          no            True  \n",
            "145457          M          no            True  \n",
            "145458          P          sí           False  \n",
            "145459          G          no           False  \n",
            "\n",
            "[145460 rows x 26 columns]\n"
          ]
        }
      ]
    },
    {
      "cell_type": "code",
      "source": [],
      "metadata": {
        "id": "P3qpuy2nX8Sy"
      },
      "execution_count": 82,
      "outputs": []
    },
    {
      "cell_type": "markdown",
      "source": [
        "#2"
      ],
      "metadata": {
        "id": "YAbD4gbBX5V6"
      }
    },
    {
      "cell_type": "code",
      "source": [
        "X = pd.DataFrame({\n",
        "    'Date': pd.date_range(start='2020-01-01', periods=145460, freq='H'),\n",
        "    'Location': np.random.choice(['City1', 'City2', 'City3'], 145460),\n",
        "    'MinTemp': np.random.uniform(-10, 25, 145460),\n",
        "    'MaxTemp': np.random.uniform(10, 35, 145460),\n",
        "    'Rainfall': np.random.uniform(0, 50, 145460),\n",
        "    'Evaporation': np.random.uniform(0, 20, 145460),\n",
        "    'Sunshine': np.random.uniform(0, 15, 145460),\n",
        "    'WindGustDir': np.random.choice(['N', 'E', 'S', 'W'], 145460),\n",
        "    'WindGustSpeed': np.random.uniform(0, 50, 145460),\n",
        "    'WindDir9am': np.random.choice(['N', 'E', 'S', 'W'], 145460),\n",
        "    'WindDir3pm': np.random.choice(['N', 'E', 'S', 'W'], 145460),\n",
        "    'WindSpeed9am': np.random.uniform(0, 20, 145460),\n",
        "    'WindSpeed3pm': np.random.uniform(0, 20, 145460),\n",
        "    'Humidity9am': np.random.uniform(0, 100, 145460),\n",
        "    'Humidity3pm': np.random.uniform(0, 100, 145460),\n",
        "    'Pressure9am': np.random.uniform(990, 1020, 145460),\n",
        "    'Pressure3pm': np.random.uniform(990, 1020, 145460),\n",
        "    'Cloud9am': np.random.uniform(0, 8, 145460),\n",
        "    'Cloud3pm': np.random.uniform(0, 8, 145460),\n",
        "    'Temp9am': np.random.uniform(-5, 30, 145460),\n",
        "    'Temp3pm': np.random.uniform(-5, 35, 145460),\n",
        "    'RainToday': np.random.choice(['Yes', 'No'], 145460),\n",
        "    'RainTomorrow': np.random.choice(['Yes', 'No'], 145460)\n",
        "})\n",
        "\n",
        "def duplicate_with_variation(df, noise_factor=0.01):\n",
        "    # Crear una copia del DataFrame original\n",
        "    df_copy = df.copy()\n",
        "\n",
        "    # Introducir pequeñas variaciones en las columnas numéricas\n",
        "    for column in df.columns:\n",
        "        if df[column].dtype in [np.float64, np.int64]:  # Para columnas numéricas\n",
        "            df_copy[column] += np.random.normal(loc=0, scale=noise_factor, size=len(df))\n",
        "        # No se modifica las columnas categóricas\n",
        "        elif df[column].dtype == object:\n",
        "            pass\n",
        "\n",
        "    # Concatenar los datos originales con los modificados\n",
        "    df_duplicated = pd.concat([df, df_copy], ignore_index=True)\n",
        "\n",
        "    return df_duplicated\n",
        "\n",
        "# Aplicar la función para duplicar el DataFrame con variaciones\n",
        "X_duplicated = duplicate_with_variation(X)\n",
        "\n",
        "\n",
        "# Imprimir el DataFrame con los ejemplos duplicados\n",
        "print(X_duplicated)\n"
      ],
      "metadata": {
        "colab": {
          "base_uri": "https://localhost:8080/"
        },
        "id": "CoSQubf6ydIZ",
        "outputId": "eefa280c-851f-4c26-9a41-c22439158e26"
      },
      "execution_count": 83,
      "outputs": [
        {
          "output_type": "stream",
          "name": "stdout",
          "text": [
            "                      Date Location    MinTemp    MaxTemp   Rainfall  \\\n",
            "0      2020-01-01 00:00:00    City2   3.080157  21.483727  33.275092   \n",
            "1      2020-01-01 01:00:00    City3   2.423590  12.180105  18.718655   \n",
            "2      2020-01-01 02:00:00    City1   8.827571  27.708759   0.369547   \n",
            "3      2020-01-01 03:00:00    City2  15.990697  16.080506  35.759230   \n",
            "4      2020-01-01 04:00:00    City3  18.763496  26.119254  21.823962   \n",
            "...                    ...      ...        ...        ...        ...   \n",
            "290915 2036-08-04 15:00:00    City3  17.694714  12.596490  17.978255   \n",
            "290916 2036-08-04 16:00:00    City2  18.042539  26.084195   4.749101   \n",
            "290917 2036-08-04 17:00:00    City2   5.962047  21.534724  28.011461   \n",
            "290918 2036-08-04 18:00:00    City3  16.546196  25.748365   2.519820   \n",
            "290919 2036-08-04 19:00:00    City3  24.371329  17.287292   3.535086   \n",
            "\n",
            "        Evaporation   Sunshine WindGustDir  WindGustSpeed WindDir9am  ...  \\\n",
            "0          6.311886  12.835651           W       4.092293          N  ...   \n",
            "1          5.195189   8.808717           W       7.563771          W  ...   \n",
            "2          0.904779   8.851636           W      18.012871          S  ...   \n",
            "3          5.934147  11.059669           S       4.327164          S  ...   \n",
            "4          1.979947   6.292561           N      32.170937          W  ...   \n",
            "...             ...        ...         ...            ...        ...  ...   \n",
            "290915     8.066748   6.253761           S       5.495239          E  ...   \n",
            "290916    16.355715  13.635625           N      15.044378          W  ...   \n",
            "290917     1.654283   1.456437           E      17.713602          S  ...   \n",
            "290918    13.466167  12.525847           N      32.151069          E  ...   \n",
            "290919    10.755805  10.787436           S      49.751362          E  ...   \n",
            "\n",
            "       Humidity9am  Humidity3pm  Pressure9am  Pressure3pm  Cloud9am  Cloud3pm  \\\n",
            "0        73.997335    68.337699  1008.169136  1014.600872  4.477326  5.249155   \n",
            "1        62.234857    27.346708  1012.194834   999.256102  5.398913  5.172051   \n",
            "2        32.070822    13.524552  1008.971924  1004.992574  4.461234  6.181509   \n",
            "3        44.503747    74.982251   991.184952  1010.285903  1.325696  2.610861   \n",
            "4        39.389771    53.391925  1018.641134   990.863118  6.253750  7.301576   \n",
            "...            ...          ...          ...          ...       ...       ...   \n",
            "290915   74.556874    63.750698  1011.064313  1002.745986  7.542306  7.450997   \n",
            "290916   18.158028    26.400800   991.739386   997.126711  4.089606  1.503239   \n",
            "290917    2.449126    95.649275  1001.104486   994.370401  1.699705  5.512467   \n",
            "290918   62.901608    98.959006  1015.891799  1018.605833  4.409364  4.899581   \n",
            "290919   63.056246    94.666279   997.296895  1005.247732  4.347079  0.289935   \n",
            "\n",
            "          Temp9am    Temp3pm  RainToday  RainTomorrow  \n",
            "0       15.827523   1.377739         No            No  \n",
            "1       -4.822408   7.096980         No           Yes  \n",
            "2       -0.583441   6.103062         No            No  \n",
            "3       22.021567   5.836962         No           Yes  \n",
            "4       22.259714   1.229282         No            No  \n",
            "...           ...        ...        ...           ...  \n",
            "290915  22.373468  13.139777        Yes           Yes  \n",
            "290916   9.819743  -0.263007        Yes           Yes  \n",
            "290917   4.244441  25.990654        Yes            No  \n",
            "290918  12.859546  10.873726         No            No  \n",
            "290919   0.107542  34.882512        Yes           Yes  \n",
            "\n",
            "[290920 rows x 23 columns]\n"
          ]
        }
      ]
    },
    {
      "cell_type": "code",
      "source": [
        "# Duplicar el numero de ejemplos\n",
        "X_duplicated = pd.concat([X, X], ignore_index=True)\n",
        "\n",
        "# Imprimir el DataFrame con los ejemplos duplicados\n",
        "print(X_duplicated)"
      ],
      "metadata": {
        "colab": {
          "base_uri": "https://localhost:8080/"
        },
        "id": "tAorh0WVX35D",
        "outputId": "971edae0-4218-4624-e5a6-33ab54a3fa96"
      },
      "execution_count": 84,
      "outputs": [
        {
          "output_type": "stream",
          "name": "stdout",
          "text": [
            "                      Date Location    MinTemp    MaxTemp   Rainfall  \\\n",
            "0      2020-01-01 00:00:00    City2   3.080157  21.483727  33.275092   \n",
            "1      2020-01-01 01:00:00    City3   2.423590  12.180105  18.718655   \n",
            "2      2020-01-01 02:00:00    City1   8.827571  27.708759   0.369547   \n",
            "3      2020-01-01 03:00:00    City2  15.990697  16.080506  35.759230   \n",
            "4      2020-01-01 04:00:00    City3  18.763496  26.119254  21.823962   \n",
            "...                    ...      ...        ...        ...        ...   \n",
            "290915 2036-08-04 15:00:00    City3  17.698235  12.590644  17.974106   \n",
            "290916 2036-08-04 16:00:00    City2  18.019444  26.073416   4.726412   \n",
            "290917 2036-08-04 17:00:00    City2   5.972716  21.518179  28.012551   \n",
            "290918 2036-08-04 18:00:00    City3  16.553716  25.745639   2.511834   \n",
            "290919 2036-08-04 19:00:00    City3  24.369076  17.286964   3.529773   \n",
            "\n",
            "        Evaporation   Sunshine WindGustDir  WindGustSpeed WindDir9am  ...  \\\n",
            "0          6.311886  12.835651           W       4.092293          N  ...   \n",
            "1          5.195189   8.808717           W       7.563771          W  ...   \n",
            "2          0.904779   8.851636           W      18.012871          S  ...   \n",
            "3          5.934147  11.059669           S       4.327164          S  ...   \n",
            "4          1.979947   6.292561           N      32.170937          W  ...   \n",
            "...             ...        ...         ...            ...        ...  ...   \n",
            "290915     8.055896   6.242407           S       5.488783          E  ...   \n",
            "290916    16.377516  13.648122           N      15.043240          W  ...   \n",
            "290917     1.639871   1.450689           E      17.710535          S  ...   \n",
            "290918    13.452244  12.520433           N      32.158379          E  ...   \n",
            "290919    10.755245  10.798894           S      49.756625          E  ...   \n",
            "\n",
            "       Humidity9am  Humidity3pm  Pressure9am  Pressure3pm  Cloud9am  Cloud3pm  \\\n",
            "0        73.997335    68.337699  1008.169136  1014.600872  4.477326  5.249155   \n",
            "1        62.234857    27.346708  1012.194834   999.256102  5.398913  5.172051   \n",
            "2        32.070822    13.524552  1008.971924  1004.992574  4.461234  6.181509   \n",
            "3        44.503747    74.982251   991.184952  1010.285903  1.325696  2.610861   \n",
            "4        39.389771    53.391925  1018.641134   990.863118  6.253750  7.301576   \n",
            "...            ...          ...          ...          ...       ...       ...   \n",
            "290915   74.554133    63.747449  1011.063275  1002.752873  7.555287  7.437294   \n",
            "290916   18.170318    26.416680   991.750927   997.141769  4.081745  1.499501   \n",
            "290917    2.462136    95.660892  1001.095670   994.379572  1.707073  5.510532   \n",
            "290918   62.897830    98.949240  1015.873514  1018.610400  4.384435  4.912668   \n",
            "290919   63.049173    94.661672   997.317399  1005.248114  4.362649  0.297797   \n",
            "\n",
            "          Temp9am    Temp3pm  RainToday  RainTomorrow  \n",
            "0       15.827523   1.377739         No            No  \n",
            "1       -4.822408   7.096980         No           Yes  \n",
            "2       -0.583441   6.103062         No            No  \n",
            "3       22.021567   5.836962         No           Yes  \n",
            "4       22.259714   1.229282         No            No  \n",
            "...           ...        ...        ...           ...  \n",
            "290915  22.370485  13.141372        Yes           Yes  \n",
            "290916   9.805671  -0.264311        Yes           Yes  \n",
            "290917   4.231723  25.978607        Yes            No  \n",
            "290918  12.857556  10.887485         No            No  \n",
            "290919   0.090315  34.878803        Yes           Yes  \n",
            "\n",
            "[290920 rows x 23 columns]\n"
          ]
        }
      ]
    },
    {
      "cell_type": "code",
      "source": [
        "# Duplicar las columnas\n",
        "X_duplicated_columns = X.copy()  # Crear una copia del DataFrame para duplicar columnas\n",
        "for column in X.columns:\n",
        "    X_duplicated_columns[f'{column}_dup'] = X[column]  # Agregar cada columna duplicada\n",
        "\n",
        "# Imprimir el DataFrame con las columnas duplicadas\n",
        "print(X_duplicated_columns)"
      ],
      "metadata": {
        "colab": {
          "base_uri": "https://localhost:8080/"
        },
        "id": "YJNxqoCtYez6",
        "outputId": "814c8e4c-b322-4948-dac7-89e8618fb7aa"
      },
      "execution_count": 85,
      "outputs": [
        {
          "output_type": "stream",
          "name": "stdout",
          "text": [
            "                      Date Location    MinTemp    MaxTemp   Rainfall  \\\n",
            "0      2020-01-01 00:00:00    City2   3.080157  21.483727  33.275092   \n",
            "1      2020-01-01 01:00:00    City3   2.423590  12.180105  18.718655   \n",
            "2      2020-01-01 02:00:00    City1   8.827571  27.708759   0.369547   \n",
            "3      2020-01-01 03:00:00    City2  15.990697  16.080506  35.759230   \n",
            "4      2020-01-01 04:00:00    City3  18.763496  26.119254  21.823962   \n",
            "...                    ...      ...        ...        ...        ...   \n",
            "145455 2036-08-04 15:00:00    City3  17.698235  12.590644  17.974106   \n",
            "145456 2036-08-04 16:00:00    City2  18.019444  26.073416   4.726412   \n",
            "145457 2036-08-04 17:00:00    City2   5.972716  21.518179  28.012551   \n",
            "145458 2036-08-04 18:00:00    City3  16.553716  25.745639   2.511834   \n",
            "145459 2036-08-04 19:00:00    City3  24.369076  17.286964   3.529773   \n",
            "\n",
            "        Evaporation   Sunshine WindGustDir  WindGustSpeed WindDir9am  ...  \\\n",
            "0          6.311886  12.835651           W       4.092293          N  ...   \n",
            "1          5.195189   8.808717           W       7.563771          W  ...   \n",
            "2          0.904779   8.851636           W      18.012871          S  ...   \n",
            "3          5.934147  11.059669           S       4.327164          S  ...   \n",
            "4          1.979947   6.292561           N      32.170937          W  ...   \n",
            "...             ...        ...         ...            ...        ...  ...   \n",
            "145455     8.055896   6.242407           S       5.488783          E  ...   \n",
            "145456    16.377516  13.648122           N      15.043240          W  ...   \n",
            "145457     1.639871   1.450689           E      17.710535          S  ...   \n",
            "145458    13.452244  12.520433           N      32.158379          E  ...   \n",
            "145459    10.755245  10.798894           S      49.756625          E  ...   \n",
            "\n",
            "       Humidity9am_dup  Humidity3pm_dup  Pressure9am_dup  Pressure3pm_dup  \\\n",
            "0            73.997335        68.337699      1008.169136      1014.600872   \n",
            "1            62.234857        27.346708      1012.194834       999.256102   \n",
            "2            32.070822        13.524552      1008.971924      1004.992574   \n",
            "3            44.503747        74.982251       991.184952      1010.285903   \n",
            "4            39.389771        53.391925      1018.641134       990.863118   \n",
            "...                ...              ...              ...              ...   \n",
            "145455       74.554133        63.747449      1011.063275      1002.752873   \n",
            "145456       18.170318        26.416680       991.750927       997.141769   \n",
            "145457        2.462136        95.660892      1001.095670       994.379572   \n",
            "145458       62.897830        98.949240      1015.873514      1018.610400   \n",
            "145459       63.049173        94.661672       997.317399      1005.248114   \n",
            "\n",
            "        Cloud9am_dup  Cloud3pm_dup  Temp9am_dup  Temp3pm_dup  RainToday_dup  \\\n",
            "0           4.477326      5.249155    15.827523     1.377739             No   \n",
            "1           5.398913      5.172051    -4.822408     7.096980             No   \n",
            "2           4.461234      6.181509    -0.583441     6.103062             No   \n",
            "3           1.325696      2.610861    22.021567     5.836962             No   \n",
            "4           6.253750      7.301576    22.259714     1.229282             No   \n",
            "...              ...           ...          ...          ...            ...   \n",
            "145455      7.555287      7.437294    22.370485    13.141372            Yes   \n",
            "145456      4.081745      1.499501     9.805671    -0.264311            Yes   \n",
            "145457      1.707073      5.510532     4.231723    25.978607            Yes   \n",
            "145458      4.384435      4.912668    12.857556    10.887485             No   \n",
            "145459      4.362649      0.297797     0.090315    34.878803            Yes   \n",
            "\n",
            "        RainTomorrow_dup  \n",
            "0                     No  \n",
            "1                    Yes  \n",
            "2                     No  \n",
            "3                    Yes  \n",
            "4                     No  \n",
            "...                  ...  \n",
            "145455               Yes  \n",
            "145456               Yes  \n",
            "145457                No  \n",
            "145458                No  \n",
            "145459               Yes  \n",
            "\n",
            "[145460 rows x 46 columns]\n"
          ]
        }
      ]
    },
    {
      "cell_type": "code",
      "source": [
        "# Duplicar las filas\n",
        "X_duplicated_filas = pd.concat([X, X], ignore_index=True)\n",
        "\n",
        "# Duplicar las columnas\n",
        "X_duplicated_both = X_duplicated_filas.copy()  # Crear una copia del DataFrame para duplicar columnas\n",
        "for column in X_duplicated_filas.columns:\n",
        "    X_duplicated_both[f'{column}_dup'] = X_duplicated_filas[column]  # Agregar cada columna duplicada\n",
        "\n",
        "# Imprimir el DataFrame con filas y columnas duplicadas\n",
        "print(X_duplicated_both)"
      ],
      "metadata": {
        "colab": {
          "base_uri": "https://localhost:8080/"
        },
        "id": "gwd4s8k9Y4NT",
        "outputId": "34b36737-f3ac-43f2-976d-37c9e79e4add"
      },
      "execution_count": 86,
      "outputs": [
        {
          "output_type": "stream",
          "name": "stdout",
          "text": [
            "                      Date Location    MinTemp    MaxTemp   Rainfall  \\\n",
            "0      2020-01-01 00:00:00    City2   3.080157  21.483727  33.275092   \n",
            "1      2020-01-01 01:00:00    City3   2.423590  12.180105  18.718655   \n",
            "2      2020-01-01 02:00:00    City1   8.827571  27.708759   0.369547   \n",
            "3      2020-01-01 03:00:00    City2  15.990697  16.080506  35.759230   \n",
            "4      2020-01-01 04:00:00    City3  18.763496  26.119254  21.823962   \n",
            "...                    ...      ...        ...        ...        ...   \n",
            "290915 2036-08-04 15:00:00    City3  17.698235  12.590644  17.974106   \n",
            "290916 2036-08-04 16:00:00    City2  18.019444  26.073416   4.726412   \n",
            "290917 2036-08-04 17:00:00    City2   5.972716  21.518179  28.012551   \n",
            "290918 2036-08-04 18:00:00    City3  16.553716  25.745639   2.511834   \n",
            "290919 2036-08-04 19:00:00    City3  24.369076  17.286964   3.529773   \n",
            "\n",
            "        Evaporation   Sunshine WindGustDir  WindGustSpeed WindDir9am  ...  \\\n",
            "0          6.311886  12.835651           W       4.092293          N  ...   \n",
            "1          5.195189   8.808717           W       7.563771          W  ...   \n",
            "2          0.904779   8.851636           W      18.012871          S  ...   \n",
            "3          5.934147  11.059669           S       4.327164          S  ...   \n",
            "4          1.979947   6.292561           N      32.170937          W  ...   \n",
            "...             ...        ...         ...            ...        ...  ...   \n",
            "290915     8.055896   6.242407           S       5.488783          E  ...   \n",
            "290916    16.377516  13.648122           N      15.043240          W  ...   \n",
            "290917     1.639871   1.450689           E      17.710535          S  ...   \n",
            "290918    13.452244  12.520433           N      32.158379          E  ...   \n",
            "290919    10.755245  10.798894           S      49.756625          E  ...   \n",
            "\n",
            "       Humidity9am_dup  Humidity3pm_dup  Pressure9am_dup  Pressure3pm_dup  \\\n",
            "0            73.997335        68.337699      1008.169136      1014.600872   \n",
            "1            62.234857        27.346708      1012.194834       999.256102   \n",
            "2            32.070822        13.524552      1008.971924      1004.992574   \n",
            "3            44.503747        74.982251       991.184952      1010.285903   \n",
            "4            39.389771        53.391925      1018.641134       990.863118   \n",
            "...                ...              ...              ...              ...   \n",
            "290915       74.554133        63.747449      1011.063275      1002.752873   \n",
            "290916       18.170318        26.416680       991.750927       997.141769   \n",
            "290917        2.462136        95.660892      1001.095670       994.379572   \n",
            "290918       62.897830        98.949240      1015.873514      1018.610400   \n",
            "290919       63.049173        94.661672       997.317399      1005.248114   \n",
            "\n",
            "        Cloud9am_dup  Cloud3pm_dup  Temp9am_dup  Temp3pm_dup  RainToday_dup  \\\n",
            "0           4.477326      5.249155    15.827523     1.377739             No   \n",
            "1           5.398913      5.172051    -4.822408     7.096980             No   \n",
            "2           4.461234      6.181509    -0.583441     6.103062             No   \n",
            "3           1.325696      2.610861    22.021567     5.836962             No   \n",
            "4           6.253750      7.301576    22.259714     1.229282             No   \n",
            "...              ...           ...          ...          ...            ...   \n",
            "290915      7.555287      7.437294    22.370485    13.141372            Yes   \n",
            "290916      4.081745      1.499501     9.805671    -0.264311            Yes   \n",
            "290917      1.707073      5.510532     4.231723    25.978607            Yes   \n",
            "290918      4.384435      4.912668    12.857556    10.887485             No   \n",
            "290919      4.362649      0.297797     0.090315    34.878803            Yes   \n",
            "\n",
            "        RainTomorrow_dup  \n",
            "0                     No  \n",
            "1                    Yes  \n",
            "2                     No  \n",
            "3                    Yes  \n",
            "4                     No  \n",
            "...                  ...  \n",
            "290915               Yes  \n",
            "290916               Yes  \n",
            "290917                No  \n",
            "290918                No  \n",
            "290919               Yes  \n",
            "\n",
            "[290920 rows x 46 columns]\n"
          ]
        }
      ]
    },
    {
      "cell_type": "markdown",
      "source": [
        "3"
      ],
      "metadata": {
        "id": "oBvlctzyZ77F"
      }
    },
    {
      "cell_type": "code",
      "source": [
        "# Crear gráficos\n",
        "import matplotlib.pyplot as plt\n",
        "# Configurar el tamaño de la figura\n",
        "plt.figure(figsize=(14, 6))\n",
        "\n",
        "# Primer gráfico: Solo datos originales\n",
        "plt.subplot(1, 2, 1)\n",
        "plt.scatter(X['MinTemp'], X['Location'], alpha=0.5, color='blue')\n",
        "plt.title('Gráfico de dispersión del dataset original')\n",
        "plt.ylabel('Location (numérico)')\n",
        "plt.xlabel('MinTemp')\n",
        "\n",
        "# Segundo gráfico: Datos originales + datos duplicados\n",
        "plt.subplot(1, 2, 2)\n",
        "plt.scatter(X_duplicated_both['MinTemp'], X_duplicated_both['Location'], alpha=0.5, color='red')\n",
        "plt.title('Gráfico de dispersión del dataset con datos duplicados')\n",
        "plt.ylabel('Location (numérico)')\n",
        "plt.xlabel('MinTemp')\n",
        "\n",
        "# Ajustar el diseño y mostrar la figura\n",
        "plt.tight_layout()\n",
        "plt.show()"
      ],
      "metadata": {
        "colab": {
          "base_uri": "https://localhost:8080/",
          "height": 607
        },
        "id": "5y8cAtzMZ9Uk",
        "outputId": "b66e368b-6420-4152-ad83-508918548cdd"
      },
      "execution_count": 87,
      "outputs": [
        {
          "output_type": "display_data",
          "data": {
            "text/plain": [
              "<Figure size 1400x600 with 2 Axes>"
            ],
            "image/png": "[encoded data removed]"
          },
          "metadata": {}
        }
      ]
    },
    {
      "cell_type": "markdown",
      "source": [
        "#4"
      ],
      "metadata": {
        "id": "njcksf1-kCCb"
      }
    },
    {
      "cell_type": "code",
      "source": [
        "# Separacion del Dataset 30% y 70%\n",
        "from sklearn.model_selection import train_test_split\n",
        "\n",
        "# Dividiendo los datos en conjuntos de entrenamiento y prueba\n",
        "train_data, test_data = train_test_split(data, test_size=0.3, random_state=42)\n",
        "\n",
        "# Dividimos los datos para X_test y y_test donde serán los datos para la prueba\n",
        "X_test = test_data[['MaxTemp', 'WindGustSpeed', 'WindSpeed9am', 'WindSpeed3pm', 'Humidity9am',\n",
        "                    'Humidity3pm', 'Pressure9am', 'Temp9am']]\n",
        "y_test = test_data['Pressure3pm']\n",
        "\n",
        "# Dividimos los datos para X_train y y_train para el entrenamiento\n",
        "X_train = train_data[['MaxTemp', 'WindGustSpeed', 'WindSpeed9am', 'WindSpeed3pm', 'Humidity9am',\n",
        "                    'Humidity3pm', 'Pressure9am', 'Temp9am']]\n",
        "y_train = train_data['Pressure3pm']\n",
        "\n",
        "# Mostramos los datos que serán para el entrenamiento\n",
        "print(\"Datos de X_train:\")\n",
        "print(X_train)\n",
        "print(\"Datos de y_train:\")\n",
        "print(y_train)\n",
        "\n",
        "# Mostramos la cantidad de ejemplos que tienen X_train y y_train\n",
        "print('-' * 70)\n",
        "print(\"El 70% de ejemplos que serán para el entrenamiento son: {:.0f}\".format(len(train_data)))\n",
        "print(\"El 30% de ejemplos que serán para el test son: {:.0f}\".format(len(test_data)))\n"
      ],
      "metadata": {
        "colab": {
          "base_uri": "https://localhost:8080/"
        },
        "id": "vlGGck2hkFJ5",
        "outputId": "e3f20778-812a-491d-d2a6-0f0c9a20d15f"
      },
      "execution_count": 99,
      "outputs": [
        {
          "output_type": "stream",
          "name": "stdout",
          "text": [
            "Datos de X_train:\n",
            "        MaxTemp  WindGustSpeed  WindSpeed9am  WindSpeed3pm  Humidity9am  \\\n",
            "141565     34.2           48.0          19.0          19.0         66.0   \n",
            "85325      31.4           20.0           7.0           7.0         50.0   \n",
            "17847      20.9            NaN          28.0           NaN         39.0   \n",
            "69746       NaN           28.0          11.0          19.0          NaN   \n",
            "98356      21.3           35.0          13.0          17.0         75.0   \n",
            "...         ...            ...           ...           ...          ...   \n",
            "110268     17.2            NaN           2.0          15.0         58.0   \n",
            "119879     21.1           35.0          15.0           9.0         69.0   \n",
            "103694     21.7           39.0           6.0          17.0         85.0   \n",
            "131932     14.8           56.0          19.0          28.0         56.0   \n",
            "121958     40.6           31.0           9.0          13.0         28.0   \n",
            "\n",
            "        Humidity3pm  Pressure9am  Temp9am  \n",
            "141565         27.0       1013.3     25.7  \n",
            "85325          50.0       1013.3     24.7  \n",
            "17847           NaN          NaN     17.0  \n",
            "69746           NaN          NaN      NaN  \n",
            "98356          60.0       1016.1     18.2  \n",
            "...             ...          ...      ...  \n",
            "110268         58.0       1027.2     13.8  \n",
            "119879         43.0       1026.7     12.3  \n",
            "103694         42.0       1021.1     13.7  \n",
            "131932         62.0        998.7     14.1  \n",
            "121958         28.0       1008.0     30.1  \n",
            "\n",
            "[101822 rows x 8 columns]\n",
            "Datos de y_train:\n",
            "141565    1009.4\n",
            "85325     1011.4\n",
            "17847        NaN\n",
            "69746        NaN\n",
            "98356     1017.1\n",
            "           ...  \n",
            "110268    1025.7\n",
            "119879    1023.0\n",
            "103694    1019.6\n",
            "131932     990.9\n",
            "121958    1005.1\n",
            "Name: Pressure3pm, Length: 101822, dtype: float64\n",
            "----------------------------------------------------------------------\n",
            "El 70% de ejemplos que serán para el entrenamiento son: 101822\n",
            "El 30% de ejemplos que serán para el test son: 43638\n"
          ]
        }
      ]
    },
    {
      "cell_type": "markdown",
      "source": [
        "#5"
      ],
      "metadata": {
        "id": "NlQSg5nW1GpC"
      }
    },
    {
      "cell_type": "code",
      "source": [
        "def graficarDatosDelluvia(X_train, y_train):\n",
        "    # Crear una nueva figura\n",
        "    fig = plt.figure()\n",
        "\n",
        "    # Encontrar los índices de los ejemplos llovio no llovio\n",
        "    lluvia = y == 0\n",
        "    seco = y == 1\n",
        "\n",
        "    # Graficar los ejemplos usando .loc para indexar correctamente\n",
        "    pyplot.plot(X.loc[lluvia, 'Pressure9am'], X.loc[lluvia, 'Temp9am'], 'k*', lw=2, ms=10, label='llovio')\n",
        "    pyplot.plot(X.loc[seco, 'Pressure9am'], X.loc[seco, 'Temp9am'], 'ko', mfc='y', ms=8, mec='k', mew=1, label='no llovio')\n",
        "    pyplot.xlabel('Presion Atmosferica')\n",
        "    pyplot.ylabel('Temperatura')\n",
        "    pyplot.legend(loc='best')\n",
        "    pyplot.show()"
      ],
      "metadata": {
        "id": "hfVy2PqHuNqm"
      },
      "execution_count": 100,
      "outputs": []
    },
    {
      "cell_type": "code",
      "source": [
        "graficarDatosDelluvia(X_train, y_train)"
      ],
      "metadata": {
        "colab": {
          "base_uri": "https://localhost:8080/",
          "height": 449
        },
        "id": "zHcM6zAauo_Y",
        "outputId": "1909ac0e-42a9-42b7-90ae-2f4036706574"
      },
      "execution_count": 101,
      "outputs": [
        {
          "output_type": "display_data",
          "data": {
            "text/plain": [
              "<Figure size 640x480 with 1 Axes>"
            ],
            "image/png": "[encoded data removed]"
          },
          "metadata": {}
        }
      ]
    },
    {
      "cell_type": "markdown",
      "source": [
        "<a id=\"section1\"></a>\n",
        "### 1.2 Implementacion\n",
        "\n",
        "#### 1.2.1 Fución Sigmoidea\n",
        "\n",
        "\n",
        "Los resultados que debe generar la funcion sigmoidea para valores positivos amplios de `x`, deben ser cercanos a 1, mientras que para valores negativos grandes, la sigmoide debe generar valores cercanos 0. La evaluacion de `sigmoid(0)` debe dar un resultado exacto de 0.5. Esta funcion tambien debe poder trabajar con vectores y matrices."
      ],
      "metadata": {
        "id": "IKNtmX1gIbmI"
      }
    },
    {
      "cell_type": "code",
      "source": [
        "def sigmoid(z):\n",
        "    # Calcula la sigmoide de una entrada z\n",
        "    # convierte la intrada a un arreglo numpy\n",
        "    z = np.array(z)\n",
        "    g = np.zeros(z.shape)\n",
        "    g = 1 / (1 + np.exp(-z))\n",
        "    return g"
      ],
      "metadata": {
        "id": "lextqzSMIiHn"
      },
      "execution_count": 102,
      "outputs": []
    },
    {
      "cell_type": "markdown",
      "source": [
        "Se calcula el valor de la sigmoide aplicando la funcion sigmoid con `z=0`, se debe obtener un resultado de 0.5. RE recomienda experimentar con otros valores de `z`."
      ],
      "metadata": {
        "id": "k9Yg_39rI2aj"
      }
    },
    {
      "cell_type": "code",
      "source": [
        "# Prueba la implementacion de la funcion sigmoid\n",
        "z = [0, 0.5, 1]\n",
        "g = sigmoid(z)\n",
        "print('g(', z, ') = ', g)"
      ],
      "metadata": {
        "colab": {
          "base_uri": "https://localhost:8080/"
        },
        "id": "GU36_VfRI3QS",
        "outputId": "30d79183-e280-461d-aa53-6a4ca1c4f42e"
      },
      "execution_count": 103,
      "outputs": [
        {
          "output_type": "stream",
          "name": "stdout",
          "text": [
            "g( [0, 0.5, 1] ) =  [0.5        0.62245933 0.73105858]\n"
          ]
        }
      ]
    },
    {
      "cell_type": "markdown",
      "source": [
        "<a id=\"section2\"></a>\n",
        "#### 1.2.2 Función de Costo y Gradiente\n",
        "\n",
        "Se implementa la funcion cost y gradient, para la regresión logistica. Antes de continuar es importante agregar el termino de intercepcion a X."
      ],
      "metadata": {
        "id": "goJeeFUPJDVI"
      }
    },
    {
      "cell_type": "code",
      "source": [
        "# Configurar la matriz adecuadamente, y agregar una columna de unos que corresponde al termino de intercepción.\n",
        "m, n = X_train.shape\n",
        "print(f'Numero de Columnas: {n}')\n",
        "print(f'Numero de Filas: {m}')\n",
        "# Agraga el termino de intercepción a A\n",
        "X_ready = np.concatenate([np.ones((m, 1)), X_train], axis=1)"
      ],
      "metadata": {
        "colab": {
          "base_uri": "https://localhost:8080/"
        },
        "id": "gKcVT31hJEKP",
        "outputId": "29b7b430-f57d-449d-c9c1-ccb208ba1f0b"
      },
      "execution_count": 97,
      "outputs": [
        {
          "output_type": "stream",
          "name": "stdout",
          "text": [
            "Numero de Columnas: 8\n",
            "Numero de Filas: 101822\n"
          ]
        }
      ]
    },
    {
      "cell_type": "markdown",
      "source": [
        "Realizamos la funcion de costo en una regresión logistica"
      ],
      "metadata": {
        "id": "4JGGNnt7JSuD"
      }
    },
    {
      "cell_type": "code",
      "source": [
        "def calcularCosto(theta, X, y):\n",
        "    # Inicializar algunos valores utiles\n",
        "    m = y.size  # numero de ejemplos de entrenamiento\n",
        "\n",
        "    J = 0\n",
        "    h = sigmoid(X.dot(theta.T))\n",
        "    J = (1 / m) * np.sum(-y.dot(np.log(h)) - (1 - y).dot(np.log(1 - h)))\n",
        "\n",
        "    return J"
      ],
      "metadata": {
        "id": "N55sB6quJVH0"
      },
      "execution_count": 94,
      "outputs": []
    },
    {
      "cell_type": "markdown",
      "source": [
        "Realizamos una funcion para el descenso por pa gradiente"
      ],
      "metadata": {
        "id": "8UjKKfeuJcNa"
      }
    },
    {
      "cell_type": "code",
      "source": [
        "def descensoGradiente(theta, X, y, alpha, num_iters):\n",
        "    # Inicializa algunos valores\n",
        "    m = y.shape[0] # numero de ejemplos de entrenamiento\n",
        "\n",
        "    # realiza una copia de theta, el cual será acutalizada por el descenso por el gradiente\n",
        "    theta = theta.copy()\n",
        "    J_history = []\n",
        "\n",
        "    for i in range(num_iters):\n",
        "        h = sigmoid(X.dot(theta.T))\n",
        "        theta = theta - (alpha / m) * (h - y).dot(X)\n",
        "\n",
        "        J_history.append(calcularCosto(theta, X, y))\n",
        "    return theta, J_history"
      ],
      "metadata": {
        "id": "Xo5xq5OeJdnh"
      },
      "execution_count": 95,
      "outputs": []
    },
    {
      "cell_type": "code",
      "source": [
        "# Elegir algun valor para alpha (probar varias alternativas)\n",
        "alpha = 0.0000001\n",
        "num_iters = 60000\n",
        "\n",
        "# inicializa theta y ejecuta el descenso por el gradiente\n",
        "theta = np.zeros(1+n)\n",
        "theta, J_history = descensoGradiente(theta, X_ready, y_train, alpha, num_iters)\n",
        "\n",
        "# Grafica la convergencia del costo\n",
        "pyplot.plot(np.arange(len(J_history)), J_history, lw=2)\n",
        "pyplot.xlabel('Numero de iteraciones')\n",
        "pyplot.ylabel('Costo J')\n",
        "\n",
        "# Muestra los resultados del descenso por el gradiente\n",
        "print('theta calculado por el descenso por el gradiente: {:s}'.format(str(theta)))\n",
        "\n",
        "# verificar si ingresa o no a la universidad\n",
        "X_array = [1, 1372, 2, 2, 10, 3.8074667544799388, 1545, 11, 1.8042727086281731]\n",
        "lluvia = sigmoid(np.dot(X_array, theta))   # Se debe cambiar esto\n",
        "\n",
        "print(f'Probabilidad de lluvia: {lluvia:.3f}')"
      ],
      "metadata": {
        "id": "fvRNPxxCJjwY"
      },
      "execution_count": null,
      "outputs": []
    },
    {
      "cell_type": "code",
      "source": [
        "X_array = [1, 1372, 2, 2, 10, 3.8074667544799388, 1545, 11, 1.8042727086281731]\n",
        "y_predicted = sigmoid(np.dot(X_array, theta))\n",
        "print('Probabilidad de lluvia:{:.0f}'.format(y_predicted))"
      ],
      "metadata": {
        "id": "4RNoQbILO8O6"
      },
      "execution_count": null,
      "outputs": []
    },
    {
      "cell_type": "code",
      "source": [
        "def costFunction(theta, X, y):\n",
        "    # Inicializar algunos valores utiles\n",
        "    m = y.size  # numero de ejemplos de entrenamiento\n",
        "\n",
        "    J = 0\n",
        "    grad = np.zeros(theta.shape)\n",
        "\n",
        "    h = sigmoid(X.dot(theta.T))\n",
        "\n",
        "    J = (1 / m) * np.sum(-y.dot(np.log(h)) - (1 - y).dot(np.log(1 - h)))\n",
        "    grad = (1 / m) * (h - y).dot(X)\n",
        "\n",
        "    return J, grad"
      ],
      "metadata": {
        "id": "KokXLKv5PDmw"
      },
      "execution_count": null,
      "outputs": []
    },
    {
      "cell_type": "markdown",
      "source": [
        "Se prueba la funcion `costFunction` utilizando dos casos de prueba para $\\theta$."
      ],
      "metadata": {
        "id": "Cd-LAwroPIdP"
      }
    },
    {
      "cell_type": "code",
      "source": [
        "# Inicializacion de parametros de ajuste\n",
        "initial_theta = np.zeros(n+1)\n",
        "print(initial_theta)\n",
        "cost, grad = costFunction(initial_theta, X_ready, y_train)\n",
        "\n",
        "print('Costo en theta inicial (zeros): {:.3f}'.format(cost))\n",
        "print('Costo esperado (aproximado): 0.693\\n')\n",
        "print(grad)\n",
        "print('Gradiente en theta inicial (zeros):')\n",
        "print('\\t[{:.4f}, {:.4f}, {:.4f}]'.format(*grad))\n",
        "print('Gradiente esperado (aproximado):\\n\\t[-0.1000, -12.0092, -11.2628]\\n')"
      ],
      "metadata": {
        "id": "7Ls38M6vPJWf"
      },
      "execution_count": null,
      "outputs": []
    },
    {
      "cell_type": "code",
      "source": [
        "# Calcula y muestra el costo y el gradiente con valores de theta diferentes a cero\n",
        "\n",
        "test_theta = np.array([-24, 0.2, 0.2, 0.2, 0.2, 0.2, 0.2, 0.2, 0.2])\n",
        "#test_theta = np.array([-11.74749157, 0.09927308, 0.09316497])\n",
        "print(test_theta)\n",
        "cost, grad = costFunction(test_theta, X_ready, y_train)\n",
        "\n",
        "print('Costo en theta prueba: {:.3f}'.format(cost))\n",
        "print('Costo esperado (aproximado): 0.218\\n')\n",
        "\n",
        "print('Gradiente en theta prueba:')\n",
        "print('\\t[{:.3f}, {:.3f}, {:.3f}]'.format(*grad))\n",
        "print('Gradiente esperado (aproximado):\\n\\t[0.043, 2.566, 2.647]')"
      ],
      "metadata": {
        "id": "Rr_cB3MPPP-g"
      },
      "execution_count": null,
      "outputs": []
    },
    {
      "cell_type": "markdown",
      "source": [
        "<a id=\"section4\"></a>\n",
        "#### 1.2.4 Evaluación de la regresión logistica\n",
        "\n",
        "Después de aprender los parámetros, se puede usar el modelo para predecir si un estudiante en particular será admitido. Para un estudiante con una puntuación en el Examen 1 de 45 y una puntuación en el Examen 2 de 85, debe esperar ver una probabilidad de admisión de 0,776. Otra forma de evaluar la calidad de los parámetros que hemos encontrado es ver qué tan bien predice el modelo aprendido en nuestro conjunto de entrenamiento."
      ],
      "metadata": {
        "id": "dWrPqZYPPW3E"
      }
    },
    {
      "cell_type": "code",
      "source": [
        "def predict(theta, X):\n",
        "    \"\"\"\n",
        "    Predecir si la etiqueta es 0 o 1 mediante regresión logística aprendida.\n",
        "    Calcula las predicciones para X usando un umbral en 0.5 (es decir, si sigmoide (theta.T * x)> = 0.5, predice 1)\n",
        "\n",
        "    Parametros\n",
        "    ----------\n",
        "    theta : array_like\n",
        "        Parametros para regresion logistica. Un vecto de la forma (n+1, ).\n",
        "\n",
        "    X : array_like\n",
        "        Datos utilizados para el calculo de las predicciones.\n",
        "        La fila es el numero de los puntos para calcular las predicciones,\n",
        "        y las columnas con el numero de caracteristicas.\n",
        "\n",
        "    Devuelve\n",
        "    -------\n",
        "    p : array_like\n",
        "        Predicciones y 0 o 1 para cada fila en X.\n",
        "    \"\"\"\n",
        "    m = X.shape[0] # Numero de ejemplo de entrenamiento\n",
        "\n",
        "    p = np.zeros(m)\n",
        "\n",
        "    p = np.round(sigmoid(X.dot(theta.T)))\n",
        "    return p"
      ],
      "metadata": {
        "id": "6l2uqyvqPahN"
      },
      "execution_count": null,
      "outputs": []
    },
    {
      "cell_type": "markdown",
      "source": [
        "veo la probabilidad"
      ],
      "metadata": {
        "id": "zwXPEA9xPfdp"
      }
    },
    {
      "cell_type": "code",
      "source": [
        "# Compute accuracy on our training set\n",
        "p = predict(theta, X_ready)\n",
        "print('Precisión de entrenamiento: {:.2f} %'.format(np.mean(p == y_train) * 100))"
      ],
      "metadata": {
        "id": "h0b8K_yoPeqk"
      },
      "execution_count": null,
      "outputs": []
    }
  ],
  "metadata": {
    "kernelspec": {
      "display_name": "Python 3",
      "language": "python",
      "name": "python3"
    },
    "language_info": {
      "codemirror_mode": {
        "name": "ipython",
        "version": 3
      },
      "file_extension": ".py",
      "mimetype": "text/x-python",
      "name": "python",
      "nbconvert_exporter": "python",
      "pygments_lexer": "ipython3",
      "version": "3.8.5"
    },
    "colab": {
      "provenance": [],
      "include_colab_link": true
    }
  },
  "nbformat": 4,
  "nbformat_minor": 0
}